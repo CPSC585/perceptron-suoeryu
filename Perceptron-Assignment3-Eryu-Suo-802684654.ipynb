{
 "cells": [
  {
   "cell_type": "markdown",
   "metadata": {},
   "source": [
    "---\n",
    "\n",
    "# Assignment 3\n",
    "\n",
    "```\n",
    "X1 ------\\\n",
    "          \\\n",
    "          (P) ---- (P) ---- (T)\n",
    "          /\n",
    "X2 ------/\n",
    "         \n",
    "```\n",
    "\n",
    "1. Create a two layer neural network with one perceptron in each layer (see Diagram above). Write a validation code that does along with your implementation. The goal of network is to optimize the two perceptrons to produce the output target `T` given the inputs `X1` and `X2`. Assume the output `O` of each perceptron is\n",
    "\n",
    "$$ O = \\sigma{(w1*x1 + w2*x2 + b)} $$ where\n",
    "\n",
    "$$\\sigma(x) = \\frac{1}{1+e^{-x}}$$\n",
    "\n",
    "Feel free to change the loss function if you like."
   ]
  },
  {
   "cell_type": "markdown",
   "metadata": {},
   "source": [
    "---\n",
    "\n",
    "## Answer\n",
    "Eryu Suo 802684654"
   ]
  },
  {
   "cell_type": "code",
   "execution_count": 1,
   "metadata": {},
   "outputs": [],
   "source": [
    "import numpy as np"
   ]
  },
  {
   "cell_type": "code",
   "execution_count": 2,
   "metadata": {},
   "outputs": [],
   "source": [
    "class ValueNode(object):\n",
    "    \"\"\"\n",
    "    Base object for all inputs and outputs.\n",
    "    \"\"\"\n",
    "    def __init__(self, value, grad=0.0):\n",
    "        self.value = value\n",
    "        self.gradient = grad"
   ]
  },
  {
   "cell_type": "code",
   "execution_count": 3,
   "metadata": {},
   "outputs": [],
   "source": [
    "class MultiplyNode(object):\n",
    "    \"\"\"\n",
    "    Multiplies two inputs\n",
    "    \"\"\"\n",
    "    def __init__(self, x1, x2):\n",
    "        self.x1 = x1\n",
    "        self.x2 = x2\n",
    "        self.output = ValueNode(0.0)\n",
    "        \n",
    "    def forward(self):\n",
    "        self.output.value = self.x1.value * self.x2.value\n",
    "    \n",
    "    def backward(self):\n",
    "        self.x1.gradient = self.x2.value * self.output.gradient\n",
    "        self.x2.gradient = self.x1.value * self.output.gradient"
   ]
  },
  {
   "cell_type": "code",
   "execution_count": 4,
   "metadata": {},
   "outputs": [],
   "source": [
    "class AddNode(object):    \n",
    "    \"\"\"\n",
    "    Adds several inputs nodes.\n",
    "    \"\"\"\n",
    "    def __init__(self, input_nodes):\n",
    "        self.inputs = input_nodes\n",
    "        self.output = ValueNode(0.0)\n",
    "\n",
    "    def forward(self):\n",
    "        self.output.value = reduce(lambda x1, x2:\n",
    "                                   x1.value + x2.value if type(x1) == ValueNode else x1 + x2.value,\n",
    "                                   self.inputs)\n",
    "    \n",
    "    def backward(self):\n",
    "        for n in self.inputs:\n",
    "            n.gradient = 1 * self.output.gradient"
   ]
  },
  {
   "cell_type": "code",
   "execution_count": 5,
   "metadata": {},
   "outputs": [],
   "source": [
    "class SigmoidNode(object):\n",
    "    \"\"\"\n",
    "    Adds a sigmoid non-linearity to a single input\n",
    "    \"\"\"\n",
    "    def __init__(self, x):\n",
    "        self.x = x\n",
    "        self.output = ValueNode(0.0)\n",
    "        \n",
    "    def forward(self):\n",
    "        self.output.value = 1/(1 + np.exp(-1 * self.x.value))\n",
    "        \n",
    "    def backward(self):\n",
    "        s = 1/(1 + np.exp(-1 * self.x.value))\n",
    "        self.x.gradient = (s * (1 - s)) * self.output.gradient"
   ]
  },
  {
   "cell_type": "code",
   "execution_count": 6,
   "metadata": {},
   "outputs": [],
   "source": [
    "class Perceptron(object):\n",
    "    def __init__(self, input_nodes, alpha=0.001):\n",
    "        ### Hyper parameters\n",
    "        self.alpha = alpha\n",
    "        ### Initializing weights/bias to a random float between -1 and 1.\n",
    "        self.weights = [ValueNode(np.random.uniform(-1, 1)) for i in range(len(input_nodes))]\n",
    "        self.b = ValueNode(np.random.uniform(-1, 1))\n",
    "        ### Input and Output variables\n",
    "        self.inputs = input_nodes\n",
    "        \n",
    "        self.multiply_nodes = [MultiplyNode(*p) for p in zip(self.inputs, self.weights)]\n",
    "        l = list(map(lambda n: n.output, self.multiply_nodes))\n",
    "        l.append(self.b)\n",
    "        self.add_node = AddNode(l)\n",
    "        self.sigmoid_node = SigmoidNode(self.add_node.output)\n",
    "        self.output = self.sigmoid_node.output\n",
    "    \n",
    "    def forward(self):\n",
    "        for n in self.multiply_nodes:\n",
    "            n.forward()\n",
    "        self.add_node.forward()\n",
    "        self.sigmoid_node.forward()\n",
    "        \n",
    "    def backward(self):\n",
    "        self.sigmoid_node.backward()\n",
    "        self.add_node.backward()\n",
    "        for n in self.multiply_nodes:\n",
    "            n.backward()\n",
    "    \n",
    "    def update(self):\n",
    "        for n in self.weights:\n",
    "            n.value -= self.alpha * n.gradient\n",
    "        self.b.value -= self.alpha * self.b.gradient"
   ]
  },
  {
   "cell_type": "markdown",
   "metadata": {},
   "source": [
    "### Validation"
   ]
  },
  {
   "cell_type": "code",
   "execution_count": 7,
   "metadata": {},
   "outputs": [
    {
     "data": {
      "text/plain": [
       "0.3481972639817006"
      ]
     },
     "execution_count": 7,
     "metadata": {},
     "output_type": "execute_result"
    }
   ],
   "source": [
    "x1 = ValueNode(0.11)\n",
    "x2 = ValueNode(-1.0)\n",
    "p1 = Perceptron([x1, x2], alpha=0.1)\n",
    "p2 = Perceptron([p1.output], alpha=0.1)\n",
    "\n",
    "# number of iterations\n",
    "N = 100000\n",
    "# expected output \n",
    "target = 0.3481972639817\n",
    "\n",
    "for i in range(N):\n",
    "    # Step 1. Forward Pass\n",
    "    p1.forward()\n",
    "    p2.forward()\n",
    "    # Step 2. Calculate Loss. -2 * (y - output) is the gradient of output w.r.t \n",
    "    # square loss function.\n",
    "    p2.output.gradient = -2 * (target - p2.output.value)\n",
    "    # Step 3. Backward Pass\n",
    "    p2.backward()\n",
    "    p1.backward()\n",
    "    # Step 4. Update Weights and Bias\n",
    "    p2.update()\n",
    "    p1.update()\n",
    "\n",
    "p2.output.value"
   ]
  },
  {
   "cell_type": "code",
   "execution_count": null,
   "metadata": {},
   "outputs": [],
   "source": []
  }
 ],
 "metadata": {
  "kernelspec": {
   "display_name": "Python 2",
   "language": "python",
   "name": "python2"
  },
  "language_info": {
   "codemirror_mode": {
    "name": "ipython",
    "version": 2
   },
   "file_extension": ".py",
   "mimetype": "text/x-python",
   "name": "python",
   "nbconvert_exporter": "python",
   "pygments_lexer": "ipython2",
   "version": "2.7.12"
  }
 },
 "nbformat": 4,
 "nbformat_minor": 2
}
